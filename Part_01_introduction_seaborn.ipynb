{
  "nbformat": 4,
  "nbformat_minor": 0,
  "metadata": {
    "colab": {
      "provenance": [],
      "authorship_tag": "ABX9TyMj5R5FVNv56X+Sv5RXaEpc",
      "include_colab_link": true
    },
    "kernelspec": {
      "name": "python3",
      "display_name": "Python 3"
    },
    "language_info": {
      "name": "python"
    }
  },
  "cells": [
    {
      "cell_type": "markdown",
      "metadata": {
        "id": "view-in-github",
        "colab_type": "text"
      },
      "source": [
        "<a href=\"https://colab.research.google.com/github/BENMEZIAN/Seaborn-tutorial/blob/main/Part_01_introduction_seaborn.ipynb\" target=\"_parent\"><img src=\"https://colab.research.google.com/assets/colab-badge.svg\" alt=\"Open In Colab\"/></a>"
      ]
    },
    {
      "cell_type": "markdown",
      "source": [
        "# What's seaborn ?\n",
        "#### Seaborn is a Python data visualization library based on matplotlib. It provides a high-level interface for drawing attractive and informative statistical graphics."
      ],
      "metadata": {
        "id": "k5F-Fcqo6nNq"
      }
    },
    {
      "cell_type": "markdown",
      "source": [
        "# Seaborn vs. Matplotlib: Key Differences\n",
        "\n",
        "- 1. Simplified Syntax: Seaborn often requires less code to create complex plots compared to Matplotlib.  It handles many details automatically, such as color palettes, legend placement, and axis labels.\n",
        "\n",
        "-  2. Statistical Visualizations: Seaborn excels at creating statistical visualizations, like distribution plots, box plots, and violin plots. These are often more informative than basic Matplotlib plots when working with statistical data.\n",
        "\n",
        "- 3. Aesthetics: Seaborn has a default style that tends to be more visually appealing than Matplotlib's default style. It provides a range of color palettes and themes to customize plots further.\n",
        "\n",
        "- 4. Integration with Pandas: Seaborn integrates seamlessly with Pandas DataFrames, making it easier to visualize data directly from data structures."
      ],
      "metadata": {
        "id": "F3VVHbcQ7adh"
      }
    },
    {
      "cell_type": "markdown",
      "source": [
        "# What are the seaborn graphics ?\n",
        "* distplot\n",
        "* pairplot\n",
        "* boxplot\n",
        "* violinplot\n",
        "* barplot\n",
        "* countplot\n",
        "* heatmap\n",
        "* clustermap\n",
        "* FacetGrid\n",
        "* PairGrid\n",
        "* Lineplot"
      ],
      "metadata": {
        "id": "TKR2v_C6_1s6"
      }
    },
    {
      "cell_type": "markdown",
      "source": [
        "# Dependency of seaborn"
      ],
      "metadata": {
        "id": "bqLZargr709I"
      }
    },
    {
      "cell_type": "code",
      "source": [
        "# prompt: Dependency of seaborn ? i meant what should the min version of other libraries\n",
        "\n",
        "import seaborn as sns\n",
        "import matplotlib as plt\n",
        "import numpy as np\n",
        "import pandas as pd\n",
        "import scipy as sp\n",
        "import statsmodels as sm\n",
        "\n",
        "print(f\"Seaborn version: {sns.__version__}\")\n",
        "print(f\"Matplotlib version: {plt.__version__}\")\n",
        "print(f\"Pandas version: {pd.__version__}\")\n",
        "print(f\"Numpy version: {np.__version__}\")\n",
        "print(f\"Scipy version: {sp.__version__}\")\n",
        "print(f\"Statsmodels version: {sm.__version__}\")\n"
      ],
      "metadata": {
        "colab": {
          "base_uri": "https://localhost:8080/"
        },
        "id": "lGNJ6CBb71nE",
        "outputId": "a28701ed-f1eb-4231-c51e-03a3d268da7e"
      },
      "execution_count": 14,
      "outputs": [
        {
          "output_type": "stream",
          "name": "stdout",
          "text": [
            "Seaborn version: 0.13.2\n",
            "Matplotlib version: 3.10.0\n",
            "Pandas version: 2.2.2\n",
            "Numpy version: 2.0.2\n",
            "Scipy version: 1.14.1\n",
            "Statsmodels version: 0.14.4\n"
          ]
        }
      ]
    },
    {
      "cell_type": "markdown",
      "source": [
        "# How to install seaborn ?"
      ],
      "metadata": {
        "id": "af0rBqsm8yLh"
      }
    },
    {
      "cell_type": "code",
      "source": [
        "!pip install seaborn"
      ],
      "metadata": {
        "colab": {
          "base_uri": "https://localhost:8080/"
        },
        "collapsed": true,
        "id": "c8S4LaOk85a2",
        "outputId": "6efaf7dd-2467-4d93-da61-d54db2c85847"
      },
      "execution_count": 6,
      "outputs": [
        {
          "output_type": "stream",
          "name": "stdout",
          "text": [
            "Requirement already satisfied: seaborn in /usr/local/lib/python3.11/dist-packages (0.13.2)\n",
            "Requirement already satisfied: numpy!=1.24.0,>=1.20 in /usr/local/lib/python3.11/dist-packages (from seaborn) (2.0.2)\n",
            "Requirement already satisfied: pandas>=1.2 in /usr/local/lib/python3.11/dist-packages (from seaborn) (2.2.2)\n",
            "Requirement already satisfied: matplotlib!=3.6.1,>=3.4 in /usr/local/lib/python3.11/dist-packages (from seaborn) (3.10.0)\n",
            "Requirement already satisfied: contourpy>=1.0.1 in /usr/local/lib/python3.11/dist-packages (from matplotlib!=3.6.1,>=3.4->seaborn) (1.3.1)\n",
            "Requirement already satisfied: cycler>=0.10 in /usr/local/lib/python3.11/dist-packages (from matplotlib!=3.6.1,>=3.4->seaborn) (0.12.1)\n",
            "Requirement already satisfied: fonttools>=4.22.0 in /usr/local/lib/python3.11/dist-packages (from matplotlib!=3.6.1,>=3.4->seaborn) (4.56.0)\n",
            "Requirement already satisfied: kiwisolver>=1.3.1 in /usr/local/lib/python3.11/dist-packages (from matplotlib!=3.6.1,>=3.4->seaborn) (1.4.8)\n",
            "Requirement already satisfied: packaging>=20.0 in /usr/local/lib/python3.11/dist-packages (from matplotlib!=3.6.1,>=3.4->seaborn) (24.2)\n",
            "Requirement already satisfied: pillow>=8 in /usr/local/lib/python3.11/dist-packages (from matplotlib!=3.6.1,>=3.4->seaborn) (11.1.0)\n",
            "Requirement already satisfied: pyparsing>=2.3.1 in /usr/local/lib/python3.11/dist-packages (from matplotlib!=3.6.1,>=3.4->seaborn) (3.2.3)\n",
            "Requirement already satisfied: python-dateutil>=2.7 in /usr/local/lib/python3.11/dist-packages (from matplotlib!=3.6.1,>=3.4->seaborn) (2.8.2)\n",
            "Requirement already satisfied: pytz>=2020.1 in /usr/local/lib/python3.11/dist-packages (from pandas>=1.2->seaborn) (2025.2)\n",
            "Requirement already satisfied: tzdata>=2022.7 in /usr/local/lib/python3.11/dist-packages (from pandas>=1.2->seaborn) (2025.2)\n",
            "Requirement already satisfied: six>=1.5 in /usr/local/lib/python3.11/dist-packages (from python-dateutil>=2.7->matplotlib!=3.6.1,>=3.4->seaborn) (1.17.0)\n"
          ]
        }
      ]
    },
    {
      "cell_type": "markdown",
      "source": [
        "# How to import seaborn ?"
      ],
      "metadata": {
        "id": "fyYdPWJq8-oI"
      }
    },
    {
      "cell_type": "code",
      "source": [
        "import seaborn as sns"
      ],
      "metadata": {
        "id": "Wwh2FBpc9Cxu"
      },
      "execution_count": 7,
      "outputs": []
    },
    {
      "cell_type": "markdown",
      "source": [
        "# The study material for seaborn"
      ],
      "metadata": {
        "id": "LtFyXHj49Ivh"
      }
    },
    {
      "cell_type": "code",
      "source": [
        "# https://indianaiproduction.com/python-seaborn-tutorial/"
      ],
      "metadata": {
        "id": "KI4xIJa29LZ9"
      },
      "execution_count": 9,
      "outputs": []
    }
  ]
}